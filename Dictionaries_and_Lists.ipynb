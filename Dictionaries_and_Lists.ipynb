{
  "nbformat": 4,
  "nbformat_minor": 0,
  "metadata": {
    "colab": {
      "provenance": [],
      "include_colab_link": true
    },
    "kernelspec": {
      "name": "python3",
      "display_name": "Python 3"
    }
  },
  "cells": [
    {
      "cell_type": "markdown",
      "metadata": {
        "id": "view-in-github",
        "colab_type": "text"
      },
      "source": [
        "<a href=\"https://colab.research.google.com/github/anadeleame/bioinfo-postgraduation/blob/main/Dictionaries_and_Lists.ipynb\" target=\"_parent\"><img src=\"https://colab.research.google.com/assets/colab-badge.svg\" alt=\"Open In Colab\"/></a>"
      ]
    },
    {
      "cell_type": "markdown",
      "metadata": {
        "id": "TMu19CSXPL_c"
      },
      "source": [
        "1 - We have two patients in the dictionary below. Return the exonic variants from patient B and from all the patients."
      ]
    },
    {
      "cell_type": "code",
      "metadata": {
        "id": "_KB3IU1HSThL"
      },
      "source": [
        "patients = {'Patient_A':{'Genes':['BRCA1','BRCA2'],'variants':{'intronics':['var1','var2','var3'],'exonics':['ex1','ex2','ex3']}},\n",
        "             'Patient_B':{'Genes':['XPA','XPC','XPE'],'variants':{'intronics':['varok3','varok2','varok1'],'exonics':['exok1','exok2','exok3']}}}\n",
        "\n",
        "print(patients['Patient_B']['variants']['exonics'])\n",
        "\n",
        "for values in patients.values():\n",
        "  print(values['variants']['exonics'])\n",
        ""
      ],
      "execution_count": null,
      "outputs": []
    },
    {
      "cell_type": "markdown",
      "metadata": {
        "id": "tUxgWtZAesSv"
      },
      "source": [
        "2a - We have information about some variants and their positions in the genome. This information is \"chromosome, position, reference and alt\". Extract this information and print to the screen **\"We found a VAR>VAR variation on the VAR chromosome at position VAR\"**\n"
      ]
    },
    {
      "cell_type": "code",
      "metadata": {
        "id": "EnfaYXbqeSfS"
      },
      "source": [
        "variants = [['3',187564,'C','G'],['X',245,'A','C'],['19',765733,'T','G'],['2',85637645,'A','TD'],['5',345678564,'C','ACTG'],['21',192837,'G','C'],['9',561029,'T','A'],['20',7986324,'G','AC'],['3',1234,'A','G'],['6',3473467356,'A','5']]\n",
        "\n",
        "n = 0\n",
        "\n",
        "for i in variants:\n",
        "  print(f'We found a variation {variants[n][2]} < {variants[n][3]} in the chromosome {variants[n][0]} in the position {variants[n][1]}')\n",
        "  n = n + 1\n"
      ],
      "execution_count": null,
      "outputs": []
    },
    {
      "cell_type": "markdown",
      "metadata": {
        "id": "Q4RpMUaDhI1b"
      },
      "source": [
        "2b- Print on the screen ONLY the variants that are possibly insertions."
      ]
    },
    {
      "cell_type": "code",
      "metadata": {
        "id": "VUAtjxv5jfSe"
      },
      "source": [
        "variants = [['3',187564,'C','G'],['X',245,'A','C'],['19',765733,'T','G'],['2',85637645,'A','TD'],['5',345678564,'C','ACTG'],['21',192837,'G','C'],['9',561029,'T','A'],['20',7986324,'G','AC'],['3',1234,'A','G'],['6',3473467356,'A','T']]\n",
        "\n",
        "n = 0\n",
        "\n",
        "for i in variants:\n",
        "  if len(variants[n][3]) != 1:\n",
        "    print(f'The variant {variants[n][2]} < {variants[n][3]} is an insertion')\n",
        "    n = n + 1\n",
        "  else:\n",
        "    n = n + 1\n",
        ""
      ],
      "execution_count": null,
      "outputs": []
    },
    {
      "cell_type": "markdown",
      "metadata": {
        "id": "fJ8sKxnEklDL"
      },
      "source": [
        "3 - We have an aminoacid dictionary below. I would like to know the aminoacid sequence (3 letters) of my name: **LIVIA** (ps.: soon, there will be 5 aminoacids of 3 letters each one)"
      ]
    },
    {
      "cell_type": "code",
      "metadata": {
        "id": "4cYeuYB_k9Rp"
      },
      "source": [
        "code = {\"GLY\" : \"G\", \"ALA\" : \"A\", \"LEU\" : \"L\", \"ILE\" : \"I\",\n",
        "\"ARG\" : \"R\", \"LYS\" : \"K\", \"MET\" : \"M\", \"CYS\" : \"C\",\n",
        "\"TYR\" : \"Y\", \"THR\" : \"T\", \"PRO\" : \"P\", \"SER\" : \"S\",\n",
        "\"TRP\" : \"W\", \"ASP\" : \"D\", \"GLU\" : \"E\", \"ASN\" : \"N\",\n",
        "\"GLN\" : \"Q\", \"PHE\" : \"F\", \"HIS\" : \"H\", \"VAL\" : \"V\"}\n",
        "\n",
        "for key,value in code.items():\n",
        "  if value == \"L\":\n",
        "    print(key)\n",
        "for key,value in code.items():\n",
        "  if value == \"I\":\n",
        "    print(key)\n",
        "for key,value in code.items():\n",
        "  if value == \"V\":\n",
        "    print(key)\n",
        "for key,value in code.items():\n",
        "  if value == \"I\":\n",
        "    print(key)\n",
        "for key,value in code.items():\n",
        "  if value == \"A\":\n",
        "    print(key)\n"
      ],
      "execution_count": null,
      "outputs": []
    },
    {
      "cell_type": "markdown",
      "metadata": {
        "id": "8TSAtz2U5_Lk"
      },
      "source": [
        "4 - We have a medical record with the name and age of patients. These patients were sequenced and analyzed. The list obtained from this analysis is about whether or not the patient is affected by the target disease. Patients over 30 years of age affected require urgent treatment. Who are these patients?"
      ]
    },
    {
      "cell_type": "code",
      "metadata": {
        "id": "xLH1yWykC0qn"
      },
      "source": [
        "ages = {\n",
        "    \"Ana\": 36,\n",
        "    \"Bia\": 24,\n",
        "    \"Caith\": 5,\n",
        "    \"Donato\": 15,\n",
        "    \"Leila\": 67,\n",
        "    \"Talita\": 17,\n",
        "    \"Tiago\": 35\n",
        "}\n",
        "\n",
        "patients = {\n",
        "    \"Ana\": True,\n",
        "    \"Bia\": False,\n",
        "    \"Caith\": False,\n",
        "    \"Donato\": True,\n",
        "    \"Leila\": True,\n",
        "    \"Talita\": False,\n",
        "    \"Tiago\": False\n",
        "}\n",
        "\n",
        "#zip function: an integrated function that allows us to combine two or more sequences with the same length (lists, tuples, etc.) to iterate them together.\n",
        "for (key1,value1), (key2,value2) in zip(ages.items(), patients.items()):\n",
        "  if value1 > 30 and value2 == True:\n",
        "    print (f' The patient {key1} needs urgent treatment')"
      ],
      "execution_count": null,
      "outputs": []
    }
  ]
}