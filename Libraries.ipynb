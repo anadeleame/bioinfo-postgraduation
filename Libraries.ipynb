{
  "nbformat": 4,
  "nbformat_minor": 0,
  "metadata": {
    "colab": {
      "provenance": [],
      "include_colab_link": true
    },
    "kernelspec": {
      "name": "python3",
      "display_name": "Python 3"
    },
    "language_info": {
      "name": "python"
    }
  },
  "cells": [
    {
      "cell_type": "markdown",
      "metadata": {
        "id": "view-in-github",
        "colab_type": "text"
      },
      "source": [
        "<a href=\"https://colab.research.google.com/github/anadeleame/bioinfo-postgraduation/blob/main/Libraries.ipynb\" target=\"_parent\"><img src=\"https://colab.research.google.com/assets/colab-badge.svg\" alt=\"Open In Colab\"/></a>"
      ]
    },
    {
      "cell_type": "code",
      "metadata": {
        "id": "YHqXXzRpoDv2",
        "colab": {
          "base_uri": "https://localhost:8080/",
          "height": 107
        },
        "outputId": "a5bcfcef-4855-4f80-dc43-71db8a5e80ad"
      },
      "source": [
        "from google.colab import files\n",
        "uploaded = files.upload()"
      ],
      "execution_count": null,
      "outputs": [
        {
          "output_type": "display_data",
          "data": {
            "text/plain": [
              "<IPython.core.display.HTML object>"
            ],
            "text/html": [
              "\n",
              "     <input type=\"file\" id=\"files-4c3922e1-410e-4074-bf03-dcefd9599956\" name=\"files[]\" multiple disabled\n",
              "        style=\"border:none\" />\n",
              "     <output id=\"result-4c3922e1-410e-4074-bf03-dcefd9599956\">\n",
              "      Upload widget is only available when the cell has been executed in the\n",
              "      current browser session. Please rerun this cell to enable.\n",
              "      </output>\n",
              "      <script>// Copyright 2017 Google LLC\n",
              "//\n",
              "// Licensed under the Apache License, Version 2.0 (the \"License\");\n",
              "// you may not use this file except in compliance with the License.\n",
              "// You may obtain a copy of the License at\n",
              "//\n",
              "//      http://www.apache.org/licenses/LICENSE-2.0\n",
              "//\n",
              "// Unless required by applicable law or agreed to in writing, software\n",
              "// distributed under the License is distributed on an \"AS IS\" BASIS,\n",
              "// WITHOUT WARRANTIES OR CONDITIONS OF ANY KIND, either express or implied.\n",
              "// See the License for the specific language governing permissions and\n",
              "// limitations under the License.\n",
              "\n",
              "/**\n",
              " * @fileoverview Helpers for google.colab Python module.\n",
              " */\n",
              "(function(scope) {\n",
              "function span(text, styleAttributes = {}) {\n",
              "  const element = document.createElement('span');\n",
              "  element.textContent = text;\n",
              "  for (const key of Object.keys(styleAttributes)) {\n",
              "    element.style[key] = styleAttributes[key];\n",
              "  }\n",
              "  return element;\n",
              "}\n",
              "\n",
              "// Max number of bytes which will be uploaded at a time.\n",
              "const MAX_PAYLOAD_SIZE = 100 * 1024;\n",
              "\n",
              "function _uploadFiles(inputId, outputId) {\n",
              "  const steps = uploadFilesStep(inputId, outputId);\n",
              "  const outputElement = document.getElementById(outputId);\n",
              "  // Cache steps on the outputElement to make it available for the next call\n",
              "  // to uploadFilesContinue from Python.\n",
              "  outputElement.steps = steps;\n",
              "\n",
              "  return _uploadFilesContinue(outputId);\n",
              "}\n",
              "\n",
              "// This is roughly an async generator (not supported in the browser yet),\n",
              "// where there are multiple asynchronous steps and the Python side is going\n",
              "// to poll for completion of each step.\n",
              "// This uses a Promise to block the python side on completion of each step,\n",
              "// then passes the result of the previous step as the input to the next step.\n",
              "function _uploadFilesContinue(outputId) {\n",
              "  const outputElement = document.getElementById(outputId);\n",
              "  const steps = outputElement.steps;\n",
              "\n",
              "  const next = steps.next(outputElement.lastPromiseValue);\n",
              "  return Promise.resolve(next.value.promise).then((value) => {\n",
              "    // Cache the last promise value to make it available to the next\n",
              "    // step of the generator.\n",
              "    outputElement.lastPromiseValue = value;\n",
              "    return next.value.response;\n",
              "  });\n",
              "}\n",
              "\n",
              "/**\n",
              " * Generator function which is called between each async step of the upload\n",
              " * process.\n",
              " * @param {string} inputId Element ID of the input file picker element.\n",
              " * @param {string} outputId Element ID of the output display.\n",
              " * @return {!Iterable<!Object>} Iterable of next steps.\n",
              " */\n",
              "function* uploadFilesStep(inputId, outputId) {\n",
              "  const inputElement = document.getElementById(inputId);\n",
              "  inputElement.disabled = false;\n",
              "\n",
              "  const outputElement = document.getElementById(outputId);\n",
              "  outputElement.innerHTML = '';\n",
              "\n",
              "  const pickedPromise = new Promise((resolve) => {\n",
              "    inputElement.addEventListener('change', (e) => {\n",
              "      resolve(e.target.files);\n",
              "    });\n",
              "  });\n",
              "\n",
              "  const cancel = document.createElement('button');\n",
              "  inputElement.parentElement.appendChild(cancel);\n",
              "  cancel.textContent = 'Cancel upload';\n",
              "  const cancelPromise = new Promise((resolve) => {\n",
              "    cancel.onclick = () => {\n",
              "      resolve(null);\n",
              "    };\n",
              "  });\n",
              "\n",
              "  // Wait for the user to pick the files.\n",
              "  const files = yield {\n",
              "    promise: Promise.race([pickedPromise, cancelPromise]),\n",
              "    response: {\n",
              "      action: 'starting',\n",
              "    }\n",
              "  };\n",
              "\n",
              "  cancel.remove();\n",
              "\n",
              "  // Disable the input element since further picks are not allowed.\n",
              "  inputElement.disabled = true;\n",
              "\n",
              "  if (!files) {\n",
              "    return {\n",
              "      response: {\n",
              "        action: 'complete',\n",
              "      }\n",
              "    };\n",
              "  }\n",
              "\n",
              "  for (const file of files) {\n",
              "    const li = document.createElement('li');\n",
              "    li.append(span(file.name, {fontWeight: 'bold'}));\n",
              "    li.append(span(\n",
              "        `(${file.type || 'n/a'}) - ${file.size} bytes, ` +\n",
              "        `last modified: ${\n",
              "            file.lastModifiedDate ? file.lastModifiedDate.toLocaleDateString() :\n",
              "                                    'n/a'} - `));\n",
              "    const percent = span('0% done');\n",
              "    li.appendChild(percent);\n",
              "\n",
              "    outputElement.appendChild(li);\n",
              "\n",
              "    const fileDataPromise = new Promise((resolve) => {\n",
              "      const reader = new FileReader();\n",
              "      reader.onload = (e) => {\n",
              "        resolve(e.target.result);\n",
              "      };\n",
              "      reader.readAsArrayBuffer(file);\n",
              "    });\n",
              "    // Wait for the data to be ready.\n",
              "    let fileData = yield {\n",
              "      promise: fileDataPromise,\n",
              "      response: {\n",
              "        action: 'continue',\n",
              "      }\n",
              "    };\n",
              "\n",
              "    // Use a chunked sending to avoid message size limits. See b/62115660.\n",
              "    let position = 0;\n",
              "    do {\n",
              "      const length = Math.min(fileData.byteLength - position, MAX_PAYLOAD_SIZE);\n",
              "      const chunk = new Uint8Array(fileData, position, length);\n",
              "      position += length;\n",
              "\n",
              "      const base64 = btoa(String.fromCharCode.apply(null, chunk));\n",
              "      yield {\n",
              "        response: {\n",
              "          action: 'append',\n",
              "          file: file.name,\n",
              "          data: base64,\n",
              "        },\n",
              "      };\n",
              "\n",
              "      let percentDone = fileData.byteLength === 0 ?\n",
              "          100 :\n",
              "          Math.round((position / fileData.byteLength) * 100);\n",
              "      percent.textContent = `${percentDone}% done`;\n",
              "\n",
              "    } while (position < fileData.byteLength);\n",
              "  }\n",
              "\n",
              "  // All done.\n",
              "  yield {\n",
              "    response: {\n",
              "      action: 'complete',\n",
              "    }\n",
              "  };\n",
              "}\n",
              "\n",
              "scope.google = scope.google || {};\n",
              "scope.google.colab = scope.google.colab || {};\n",
              "scope.google.colab._files = {\n",
              "  _uploadFiles,\n",
              "  _uploadFilesContinue,\n",
              "};\n",
              "})(self);\n",
              "</script> "
            ]
          },
          "metadata": {}
        },
        {
          "output_type": "stream",
          "name": "stdout",
          "text": [
            "Saving fake.fasta to fake.fasta\n",
            "Saving fake.vcf to fake.vcf\n"
          ]
        }
      ]
    },
    {
      "cell_type": "markdown",
      "metadata": {
        "id": "CL8WvhDbJTJK"
      },
      "source": [
        "1 - Open the fasta file and print all of the reads names in the file."
      ]
    },
    {
      "cell_type": "code",
      "metadata": {
        "id": "9s2WUkW3LNd2"
      },
      "source": [
        "fastafile = open('fake.fasta', 'r')\n",
        "\n",
        "for line in fastafile:\n",
        "  if '>' in line:\n",
        "    print(line)"
      ],
      "execution_count": null,
      "outputs": []
    },
    {
      "cell_type": "markdown",
      "metadata": {
        "id": "13LMUN3yJind"
      },
      "source": [
        "2 - How many variants were called in the VCF file?\n"
      ]
    },
    {
      "cell_type": "code",
      "metadata": {
        "id": "GKc5nGTwLOHH",
        "colab": {
          "base_uri": "https://localhost:8080/"
        },
        "outputId": "022de4f6-52b8-4e96-88d0-d7dd2244e43a"
      },
      "source": [
        "import re                                              #1step: importing the libraries I need\n",
        "from Bio import Seq\n",
        "\n",
        "with open('fake.vcf', 'r') as vcf:                     #2step: opening fake.vcf as a readable file\n",
        "  with open('variants.txt','w') as justvariants:       #3step: creating a new file named variants.txt as a writable file\n",
        "    for line in vcf:                                   #4step: reading fake.vcf using loop\n",
        "      if not re.search('#', line):                     #5step: excluding headers from vcf file\n",
        "        justvariants.writelines(line)                  #6step: writing lines in the variants.txt without headers\n",
        "\n",
        "counter = 0                                            #7step: creating a counter for count variants\n",
        "\n",
        "with open('variants.txt', 'r') as justvariants:        #8step: opening variants.txt as a readable file\n",
        "  for line in justvariants:                            #9step: reading variants.txt using loop\n",
        "    counter = counter + line.count(\"ExcessHet=\")       #10step: counting lines that countains the string \"ExcessHet=\" as an indirect way to count variants. I tried counting with 'chr' but it was counting more variants than it actually exists (?)\n",
        "\n",
        "print(f'It were called {counter} variants')           #11step: printing how many variantes were found"
      ],
      "execution_count": null,
      "outputs": [
        {
          "output_type": "stream",
          "name": "stdout",
          "text": [
            "Foram chamadas 9947 variantes\n"
          ]
        }
      ]
    },
    {
      "cell_type": "markdown",
      "metadata": {
        "id": "byoC5clrJ6Ga"
      },
      "source": [
        "3- Using the system you want, print the first 20 variants that have quality call > 1000.\n"
      ]
    },
    {
      "cell_type": "code",
      "source": [
        "import re                                                   #1step: import the libraries you need to use\n",
        "\n",
        "n = 0                                                       #2step: I just want to read the twenty first variants and not the whole file, so this 'n' needs to finish at 19\n",
        "with open('fake.vcf', 'r') as archive_vcf:                  #3step: opening fake.vcf as a readable file\n",
        "  with open('variants.txt','r') as justvariants:            #4step: opening variants.txt as a readable file\n",
        "    for lines in justvariants:                              #5step: reading variants.txt using loop\n",
        "      if float(lines.split('\\t')[5]) > 1000 and n < 20:     #6step: for every line in variants.txt, cut the fifth column (quality data) IF the value is greater than 1000 (I needed to convert it to float because it was a string) and 'n' is lesser than 20\n",
        "        print(lines)                                        #7step: if the condition is accepted, print the value in the fifth column\n",
        "        n = n + 1                                           #8step: if the condition is accepted, sum +1 to the last value of 'n'"
      ],
      "metadata": {
        "id": "vfEEJ0p5J8tt"
      },
      "execution_count": null,
      "outputs": []
    },
    {
      "cell_type": "markdown",
      "metadata": {
        "id": "RkoQd0Jgoaj1"
      },
      "source": [
        "4 - In a research laboratory, one seeks to discover a bacterial genome. The sequencing was performed by Illumina and the assembly by an X assembler. However, this assembly came out very fragmented. The bioinformatician, with his knowledge, was able to identify, through a gene search, a fragment that would correspond to the genome in question and carried out the analysis of its GC content. Knowing that this genome has a GC content between 0.40 and 0.38, find possible fragments that belong to this organism in the file \"fake.fasta\" - **Challenge**"
      ]
    },
    {
      "cell_type": "code",
      "metadata": {
        "id": "XMfLoavWo0K9"
      },
      "source": [
        "from Bio.SeqUtils import gc_fraction                                                 #1step: importing the libraries I need\n",
        "\n",
        "with open('fake.fasta', 'r') as fasta:                                               #2step: opening fake.fasta as a readable file\n",
        "  with open('wlines.txt', 'w') as fasta_w:                                           #step: creating a new file named wlines.txt (without lines)\n",
        "    for line in fasta:                                                               #4step: reading fake.fasta using loop\n",
        "      if '>fasta1' in line:                                                          #5step: if '>fasta1' in line...\n",
        "        fasta_w.writelines(line)                                                     #6step: ... just write the line\n",
        "      elif '>' in line and not \">fasta1\" in line:                                    #7step: if '>' is in line but it's not '>fasta1'...\n",
        "        fasta_w.writelines('\\n')                                                     #8step: create a new line (to separate the names of the fastas). That's why I did the if above, because if I just write this 'if' statement, it will create a file starting with a line jump\n",
        "        fasta_w.writelines(line)                                                     #9step: write the line\n",
        "      else:                                                                          #10step: if it's not the 'if' condition or 'elif' condition, that is, the sequence line...\n",
        "        fasta_w.writelines(line.split('\\n'))                                         #11step: write the lines without the jump line within the sequence\n",
        "\n",
        "with open('wlines.txt', 'r') as fasta_r:                                             #12step: opening wlines.txt as a readable file\n",
        "  for seq in fasta_r:                                                                #13step: reading wlines.txt using loop\n",
        "    if not seq.startswith('>'):                                                      #14step: if the line doesn't start with '>' (headers)...\n",
        "      gc_content = gc_fraction(seq)                                                  #15step: ... calculate 'GC' content\n",
        "      if gc_content > 0.38 and gc_content < 0.40:                                    #16step: if the 'GC' content is between 0.38 and 0.40...\n",
        "        print(f' A possible fragment that belongs to this organism is: {seq}')      #17step: print possible sequences\n",
        "\n"
      ],
      "execution_count": null,
      "outputs": []
    },
    {
      "cell_type": "code",
      "source": [
        "from Bio import SeqIO\n",
        "from Bio.SeqUtils import gc_fraction\n",
        "\n",
        "with open('fake.fasta', 'r') as fasta:                                                #the same resolution as above but using SeqIO.parse to concatenate the sequence (taking off jump lines) and calculating 'GC' content directly\n",
        "  for seq_record in SeqIO.parse(\"fake.fasta\", \"fasta\"):\n",
        "    gc_content = gc_fraction(seq_record)\n",
        "    if gc_content > 0.38 and gc_content < 0.40:\n",
        "      print(f'A possible fragment that belongs to the organism is - {seq_record}')\n"
      ],
      "metadata": {
        "id": "jb0lRicsc-At"
      },
      "execution_count": null,
      "outputs": []
    },
    {
      "cell_type": "markdown",
      "metadata": {
        "id": "YPBaHjMpthpy"
      },
      "source": [
        "5- We have a VCF containing multiple variants of a patient. However, our laboratory only analyzes variants with a minimum read coverage of 30. Print these variants to an output file and how many variants were filtered out."
      ]
    },
    {
      "cell_type": "code",
      "source": [
        "import re\n",
        "\n",
        "counter = 0\n",
        "\n",
        "with open ('variants.txt', 'r') as variants:\n",
        "  with open('output_file.txt', 'w') as outputfile:\n",
        "    with open('data.txt', 'w') as datas:\n",
        "      with open('lastcolumn.txt', 'w') as lastcolumn:\n",
        "        for line in variants:\n",
        "          lastcolumn.writelines(line.split('\\t')[7])\n",
        "          lastcolumn.writelines('\\n')\n",
        "\n",
        "      with open('lastcolumn.txt', 'r') as lastcolumn_r:\n",
        "        for data in lastcolumn_r:\n",
        "          dp = re.findall(r'DP=([0-9]+).*',data)\n",
        "          datas.writelines(dp)\n",
        "          datas.writelines('\\n')\n",
        "\n",
        "with open ('variants.txt','r') as variants:\n",
        "  with open ('data.txt', 'r') as datas_r:\n",
        "    with open('output_file.txt', 'w') as outputfile:\n",
        "      for linefile1, linefile2 in zip(variants, datas_r):\n",
        "        dpfloat = float(linefile2)\n",
        "        if dpfloat > 30.0:\n",
        "          outputfile.writelines(linefile1)\n",
        "\n",
        "with open('output_file.txt', 'r') as output_r:\n",
        "  for filtered_variants in output_r:\n",
        "    counter =  counter + filtered_variants.count('ExcessHet=')\n",
        "print(f'{counter} variants were found')"
      ],
      "metadata": {
        "id": "L4PF5nEOJm24"
      },
      "execution_count": null,
      "outputs": []
    }
  ]
}