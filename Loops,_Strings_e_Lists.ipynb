{
  "nbformat": 4,
  "nbformat_minor": 0,
  "metadata": {
    "colab": {
      "provenance": [],
      "include_colab_link": true
    },
    "kernelspec": {
      "name": "python3",
      "display_name": "Python 3"
    }
  },
  "cells": [
    {
      "cell_type": "markdown",
      "metadata": {
        "id": "view-in-github",
        "colab_type": "text"
      },
      "source": [
        "<a href=\"https://colab.research.google.com/github/anadeleame/bioinfo-postgraduation/blob/main/Loops%2C_Strings_e_Lists.ipynb\" target=\"_parent\"><img src=\"https://colab.research.google.com/assets/colab-badge.svg\" alt=\"Open In Colab\"/></a>"
      ]
    },
    {
      "cell_type": "markdown",
      "metadata": {
        "id": "TMu19CSXPL_c"
      },
      "source": [
        "1 - Check if the list below contains the word \"known_variants\" and in which index position it is.\n"
      ]
    },
    {
      "cell_type": "code",
      "metadata": {
        "id": "_KB3IU1HSThL",
        "colab": {
          "base_uri": "https://localhost:8080/"
        },
        "outputId": "f519c93d-5364-4918-9463-10a4a375ce6d"
      },
      "source": [
        "list = ['1000genomes', 'AAChange', 'BA1', 'BA1_message', 'BA1_strength', 'BP1', 'BP1_message', 'BP1_strength', 'BP2', 'BP2_message', 'BP2_strength', 'BP3', 'BP3_message', 'BP3_strength', 'BP4', 'BP4_message', 'BP4_strength', 'BP5', 'BP5_message', 'BP5_strength', 'BP6', 'BP6_message', 'BP6_strength', 'BP7', 'BP7_message', 'BP7_strength', 'BS1', 'BS1_message', 'BS1_strength', 'BS2', 'BS2_message', 'BS2_strength', 'BS3', 'BS3_message', 'BS3_strength', 'BS4', 'BS4_message', 'BS4_strength', 'CLINVAR', 'EXAC65000', 'ExonicFunc', 'Func', 'Gene', 'PM1', 'PM1_message', 'PM1_strength', 'PM2', 'PM2_message', 'PM2_strength', 'PM3', 'PM3_message', 'PM3_strength', 'PM4', 'PM4_message', 'PM4_strength', 'PM5', 'PM5_message', 'PM5_strength', 'PM6', 'PM6_message', 'PM6_strength', 'PP1', 'PP1_message', 'PP1_strength', 'PP2', 'PP2_message', 'PP2_strength', 'PP3', 'PP3_message', 'PP3_strength', 'PP4', 'PP4_message', 'PP4_strength', 'PP5', 'PP5_message', 'PP5_strength', 'PS1', 'PS1_message', 'PS1_strength', 'PS2', 'PS2_message', 'PS2_strength', 'PS3', 'PS3_message', 'PS3_strength', 'PS4', 'PS4_message', 'PS4_strength', 'PVS1', 'PVS1_message', 'PVS1_strength', 'aachange_refgene', 'abraom_allele_alt_count', 'abraom_allele_number', 'abraom_frequencies', 'abraom_hemizygous', 'abraom_homozygousalt', 'allele_frequency', 'alt', 'alternate_forward', 'alternate_reverse', 'augAll', 'cadd_phred', 'cadd_raw', 'cadd_raw_rankscore', 'chromosome', 'chromosome_ord', 'class_from_db', 'classification', 'clinsig', 'clnalleleid', 'clndisdb', 'clndn', 'clnrevstat', 'clnsigconf', 'clnvariationid', 'coding_change', 'cosmic70', 'dann_rankscore', 'dann_score', 'dbsc_ada', 'dbsc_rf', 'dbsnp', 'dpsi_max_tissue', 'dpsi_zscore', 'eigen_coding_or_noncoding', 'eigen_pc_raw', 'eigen_raw', 'end', 'esp', 'exac_afr', 'exac_all', 'exac_amr', 'exac_eas', 'exac_fin', 'exac_nfe', 'exac_oth', 'exac_sas', 'exon', 'exonic_func_refgene', 'fathmm_coding_pred', 'fathmm_coding_score', 'fathmm_converted_rankscore', 'fathmm_mkl_coding_rankscore', 'fathmm_pred', 'fathmm_score', 'func_refgene', 'gene_detail_refgene', 'gene_refgene', 'genocanyon_score', 'genocanyon_score_rankscore', 'genomic_super_dups', 'gerp', 'gerp_rs_rankscore', 'gnomad_exome_afr', 'gnomad_exome_all', 'gnomad_exome_amr', 'gnomad_exome_asj', 'gnomad_exome_eas', 'gnomad_exome_fin', 'gnomad_exome_nfe', 'gnomad_exome_oth', 'gnomad_exome_sas', 'gnomad_genome_afr', 'gnomad_genome_all', 'gnomad_genome_amr', 'gnomad_genome_asj', 'gnomad_genome_eas', 'gnomad_genome_fin', 'gnomad_genome_nfe', 'gnomad_genome_oth', 'gtex_v6_gene', 'gtex_v6_tissue', 'hgvs', 'hrc_ac', 'hrc_af', 'hrc_an', 'hrc_non1000g_ac', 'hrc_non1000g_af', 'hrc_non1000g_an', 'icgc_id', 'icgc_occurrence', 'indel_known', 'integrated_confidence_value', 'integrated_fitCons_score', 'integrated_fitcons_score_rankscore', 'interpro_domain', 'intervar_automated', 'kaviar_ac', 'kaviar_af', 'kaviar_an', 'known_variants', 'lrg', 'lrt_converted_rankscore', 'lrt_pred', 'lrt_score', 'm_cap_pred', 'm_cap_rankscore', 'm_cap_score', 'met_rules', 'meta_lr_pred', 'meta_lr_score', 'meta_svm_pred', 'meta_svm_score', 'metalr_rankscore', 'metasvm_rankscore', 'mutation_assessor_pred', 'mutation_assessor_score', 'mutation_assessor_score_rankscore', 'mutation_taster_converted_rankscore', 'mutation_taster_pred', 'mutation_taster_score', 'mutpred_rankscore', 'mutpred_score', 'mycancergenome', 'omim_genemap2', 'oncogene', 'oncokb', 'pfam', 'pharmgkb', 'phast_20', 'phastcons100way_vertebrate', 'phastcons100way_vertebrate_rankscore', 'phastcons20way_mammalian_rankscore', 'phyio_p20', 'phylop100way_vertebrate', 'phylop100way_vertebrate_rankscore', 'phylop20way_mammalian_rankscore', 'polyphen2_hdiv_pred', 'polyphen2_hdiv_rankscore', 'polyphen2_hdiv_score', 'polyphen2_hvar_pred', 'polyphen2_hvar_rankscore', 'polyphen2_hvar_score', 'protein_change', 'provean_converted_rankscore', 'provean_pred', 'provean_score', 'read_depth', 'ref', 'reference_forward', 'reference_reverse', 'regsnp_disease', 'regsnp_fpr', 'regsnp_splicing_site', 'repeat_masker', 'repetitive_region_length', 'revel_rankscore', 'revel_score', 'sift_converted_rankscore', 'sift_pred', 'sift_score', 'siphy', 'siphy_29way_logodds_rankscore', 'snp138', 'start', 'strand_bias', 'total_mt_depth', 'transcript', 'tumor_suppressor_gene', 'uniprot', 'vaf_max', 'vaf_mean', 'vaf_median', 'vaf_min', 'vaf_sample_count', 'vaf_std', 'varcall', 'varcall_count', 'variant_mt_fraction', 'vcf_alt', 'vcf_chromosome', 'vcf_filter', 'vcf_format_keys', 'vcf_format_values', 'vcf_id', 'vcf_info', 'vcf_pos', 'vcf_qual', 'vcf_ref', 'vest', 'vest3_rankscore', 'wg_encode_broad_hmm_gm12878hmm', 'zygosity']\n",
        "\n",
        "if 'known_variants' in list:\n",
        "  print('It is in the list and its index is',list.index('known_variants'))\n",
        "else:\n",
        "  print('It is not in the list')\n"
      ],
      "execution_count": 1,
      "outputs": [
        {
          "output_type": "stream",
          "name": "stdout",
          "text": [
            "It is in the list and its index is 191\n"
          ]
        }
      ]
    },
    {
      "cell_type": "markdown",
      "metadata": {
        "id": "tUxgWtZAesSv"
      },
      "source": [
        "2 - In the string below, return the phrase that will be formed by: [59, 60 included], space, [109,114 excluded], [134,136 included]"
      ]
    },
    {
      "cell_type": "code",
      "metadata": {
        "id": "EnfaYXbqeSfS"
      },
      "source": [
        "string = 'HumptyDumptysatonawallHumptyDumptyhadagreatYbagdsttydmmftujVcfallAlltheKingshorsesandalltheKingsmenCouldntputConseHumptyDumptyinhisplagueceagainapple'\n",
        "string[59:61]+' '+string[109:114]+string[134:137]\n"
      ],
      "execution_count": null,
      "outputs": []
    },
    {
      "cell_type": "markdown",
      "metadata": {
        "id": "Q4RpMUaDhI1b"
      },
      "source": [
        "3 - In the genetic sequence below, show how many times the consensus of the eukaryotic promoter TATA box (TATAAA) appeared"
      ]
    },
    {
      "cell_type": "code",
      "metadata": {
        "id": "VUAtjxv5jfSe"
      },
      "source": [
        "sequence = 'TTCATACTTGGTTAAGACCTTTACAAGCCGACCAACGTGGTGACAGTGTCGTCCTTTA' \\\n",
        "'CGCACCGAATCCCTTTATCATTGAATTAGTAGAAGAGCGATACTTAGGACGTCTTCGG' \\\n",
        "'ATGGAATCTTGGTCCCGTTGCCTGGAACGTCTTGAAACTGAATTCCCGCCAGAAGATG' \\\n",
        "'TTCATACTTGGTTAAGACCTTTACAAGCCGACCAACGTGGTGACAGTGTCGTCCTTTA' \\\n",
        "'CGCACCGAATCCCTTTATCATTGAATTAGTAGAAGAGCGATACTTAGGACGTCTTCGG' \\\n",
        "'GAATTGTTATCCTATTTCTCAGGAATACGTGAAGTAGTCCTTGCAATTGGCTCACGAC' \\\n",
        "'CTAAAACAACAGAACTACCCGTACCAGTAGACACTACAGGACGTTTGTCTTCAACAGT' \\\n",
        "'CCCATTTAACGGAAATCTCGACACACACTATAACTTTGATAATTTTGTTGAGGGACGA' \\\n",
        "'AGCAATCAACTCGCTCGTGCTGCAGCTTGGCAAGCGGCACAGAAACCGGGAGACCGTA' \\\n",
        "'CTCACAACCCTCTATTGCTCTATGGTGGGACTGGTTTGGGTAAAACCCATTTAATGTT' \\\n",
        "'TGCTGCAGGTAACGTAATGCGGCAAGTAAACCCAACTTATAAAGTAATGTATCTTCGT' \\\n",
        "'TCGGAACAGTTTTTCAGCGCCATGATAAGAGCGTACAAGATAAAAGTATGGATCATAA' \\\n",
        "'GGGTAAAACCCATTTAATGTTTGCTGCAGGTAACGTAATGCGGCAAGTAAACCCAACT' \\\n",
        "'TATAAAGTAATGTATCTTCGTTCGGAACAGTTTTTCAGCGCCATGATAAGAGCGTACA' \\\n",
        "'AGATAAAAGTATGGATCATAAGGGTAAAACCCATTTAATGTTTGCTGCAGGTAACGTA' \\\n",
        "'ATGCGGCAAGTAAACCCAACTTATAAAGTAATGTATCTTCGTTCGGAACAGTTTTTCA' \\\n",
        "'GCGCCATGATAAGAGCGTACAAGATAAAAGTATGGATCATAAAACGTAATGCGGCAAG' \\\n",
        "'TAAACCCAACTTATAAAGTAATGTATCTTCGTTCGGAACAGGGTAAAACCCATTTAAT' \\\n",
        "'GTTTGCTGCAGGTAACGTAATGCGGCAAGTAAACCCAACTTATAAAGTAATGTATCTT' \\\n",
        "'CGTTCGGAACAGTTTTTCAGCGCCATGATAAGAGCGTACAAGATAAAAGTATGGATCA' \\\n",
        "'TAAAACGTAATGCGGCAAGTAAACCCAACTTATAAAGTAATGTATCTTCGTTCGGAAC' \\\n",
        "'AAAAACGTAATGCGGCAAGTAAACCCAACTTATAAAGTAATGTATCTTCGTTCGGAAC'\n",
        "\n",
        "sequence.count('TATAAA')"
      ],
      "execution_count": null,
      "outputs": []
    },
    {
      "cell_type": "markdown",
      "metadata": {
        "id": "fJ8sKxnEklDL"
      },
      "source": [
        "4 - Using the list below, sort the numbers in ascending order and print the first 5 numbers."
      ]
    },
    {
      "cell_type": "code",
      "metadata": {
        "id": "4cYeuYB_k9Rp"
      },
      "source": [
        "list = [53,13,156,104,25,38,39,650,225,143,879,125,182,129,611,404,795,14,7,133,52,741,369,46,528,496,27,346,277,218,100,189,1]\n",
        "\n",
        "list.sort()\n",
        "list[0:5]\n",
        "\n"
      ],
      "execution_count": null,
      "outputs": []
    },
    {
      "cell_type": "markdown",
      "metadata": {
        "id": "4i1iMw0ylagU"
      },
      "source": [
        "5- Using the list below, order in descending order and print the final 5 numbers."
      ]
    },
    {
      "cell_type": "code",
      "metadata": {
        "id": "slpdignyl1Fn"
      },
      "source": [
        "list = [53,13,156,104,25,38,39,650,225,143,879,125,182,129,611,404,795,14,7,133,52,741,369,46,528,496,27,346,277,218,100,189,1]\n",
        "list.sort()\n",
        "list.reverse()\n",
        "list[-6:-1]\n"
      ],
      "execution_count": null,
      "outputs": []
    },
    {
      "cell_type": "markdown",
      "metadata": {
        "id": "Opu8ZpbTmWdw"
      },
      "source": [
        "6 - Using the WHILE structure, print the elements of the list until you find the entry 'Gene'. Print 'Gene' including - CHALLENGE"
      ]
    },
    {
      "cell_type": "code",
      "metadata": {
        "id": "hSehDRsAouNM"
      },
      "source": [
        "names = ['1000genomes', 'AAChange', 'BA1', 'BA1_message', 'BA1_strength', 'BP1', 'BP1_message', 'BP1_strength', 'BP2', 'BP2_message', 'BP2_strength', 'BP3', 'BP3_message', 'BP3_strength', 'BP4', 'BP4_message', 'BP4_strength', 'BP5', 'BP5_message', 'BP5_strength', 'BP6', 'BP6_message', 'BP6_strength', 'BP7', 'BP7_message', 'BP7_strength', 'BS1', 'BS1_message', 'BS1_strength', 'BS2', 'BS2_message', 'BS2_strength', 'BS3', 'BS3_message', 'BS3_strength', 'BS4', 'BS4_message', 'BS4_strength', 'CLINVAR', 'EXAC65000', 'ExonicFunc', 'Func', 'Gene', 'PM1', 'PM1_message', 'PM1_strength', 'PM2', 'PM2_message', 'PM2_strength', 'PM3', 'PM3_message', 'PM3_strength', 'PM4', 'PM4_message', 'PM4_strength', 'PM5', 'PM5_message', 'PM5_strength', 'PM6', 'PM6_message', 'PM6_strength', 'PP1', 'PP1_message', 'PP1_strength', 'PP2', 'PP2_message', 'PP2_strength', 'PP3', 'PP3_message', 'PP3_strength', 'PP4', 'PP4_message', 'PP4_strength', 'PP5', 'PP5_message', 'PP5_strength', 'PS1', 'PS1_message', 'PS1_strength', 'PS2', 'PS2_message', 'PS2_strength', 'PS3', 'PS3_message', 'PS3_strength', 'PS4', 'PS4_message', 'PS4_strength', 'PVS1', 'PVS1_message', 'PVS1_strength', 'aachange_refgene', 'abraom_allele_alt_count', 'abraom_allele_number', 'abraom_frequencies', 'abraom_hemizygous', 'abraom_homozygousalt', 'allele_frequency', 'alt', 'alternate_forward', 'alternate_reverse', 'augAll', 'cadd_phred', 'cadd_raw', 'cadd_raw_rankscore', 'chromosome', 'chromosome_ord', 'class_from_db', 'classification', 'clinsig', 'clnalleleid', 'clndisdb', 'clndn', 'clnrevstat', 'clnsigconf', 'clnvariationid', 'coding_change', 'cosmic70', 'dann_rankscore', 'dann_score', 'dbsc_ada', 'dbsc_rf', 'dbsnp', 'dpsi_max_tissue', 'dpsi_zscore', 'eigen_coding_or_noncoding', 'eigen_pc_raw', 'eigen_raw', 'end', 'esp', 'exac_afr', 'exac_all', 'exac_amr', 'exac_eas', 'exac_fin', 'exac_nfe', 'exac_oth', 'exac_sas', 'exon', 'exonic_func_refgene', 'fathmm_coding_pred', 'fathmm_coding_score', 'fathmm_converted_rankscore', 'fathmm_mkl_coding_rankscore', 'fathmm_pred', 'fathmm_score', 'func_refgene', 'gene_detail_refgene', 'gene_refgene', 'genocanyon_score', 'genocanyon_score_rankscore', 'genomic_super_dups', 'gerp', 'gerp_rs_rankscore', 'gnomad_exome_afr', 'gnomad_exome_all', 'gnomad_exome_amr', 'gnomad_exome_asj', 'gnomad_exome_eas', 'gnomad_exome_fin', 'gnomad_exome_nfe', 'gnomad_exome_oth', 'gnomad_exome_sas', 'gnomad_genome_afr', 'gnomad_genome_all', 'gnomad_genome_amr', 'gnomad_genome_asj', 'gnomad_genome_eas', 'gnomad_genome_fin', 'gnomad_genome_nfe', 'gnomad_genome_oth', 'gtex_v6_gene', 'gtex_v6_tissue', 'hgvs', 'hrc_ac', 'hrc_af', 'hrc_an', 'hrc_non1000g_ac', 'hrc_non1000g_af', 'hrc_non1000g_an', 'icgc_id', 'icgc_occurrence', 'indel_known', 'integrated_confidence_value', 'integrated_fitCons_score', 'integrated_fitcons_score_rankscore', 'interpro_domain', 'intervar_automated', 'kaviar_ac', 'kaviar_af', 'kaviar_an', 'known_variants', 'lrg', 'lrt_converted_rankscore', 'lrt_pred', 'lrt_score', 'm_cap_pred', 'm_cap_rankscore', 'm_cap_score', 'met_rules', 'meta_lr_pred', 'meta_lr_score', 'meta_svm_pred', 'meta_svm_score', 'metalr_rankscore', 'metasvm_rankscore', 'mutation_assessor_pred', 'mutation_assessor_score', 'mutation_assessor_score_rankscore', 'mutation_taster_converted_rankscore', 'mutation_taster_pred', 'mutation_taster_score', 'mutpred_rankscore', 'mutpred_score', 'mycancergenome', 'omim_genemap2', 'oncogene', 'oncokb', 'pfam', 'pharmgkb', 'phast_20', 'phastcons100way_vertebrate', 'phastcons100way_vertebrate_rankscore', 'phastcons20way_mammalian_rankscore', 'phyio_p20', 'phylop100way_vertebrate', 'phylop100way_vertebrate_rankscore', 'phylop20way_mammalian_rankscore', 'polyphen2_hdiv_pred', 'polyphen2_hdiv_rankscore', 'polyphen2_hdiv_score', 'polyphen2_hvar_pred', 'polyphen2_hvar_rankscore', 'polyphen2_hvar_score', 'protein_change', 'provean_converted_rankscore', 'provean_pred', 'provean_score', 'read_depth', 'ref', 'reference_forward', 'reference_reverse', 'regsnp_disease', 'regsnp_fpr', 'regsnp_splicing_site', 'repeat_masker', 'repetitive_region_length', 'revel_rankscore', 'revel_score', 'sift_converted_rankscore', 'sift_pred', 'sift_score', 'siphy', 'siphy_29way_logodds_rankscore', 'snp138', 'start', 'strand_bias', 'total_mt_depth', 'transcript', 'tumor_suppressor_gene', 'uniprot', 'vaf_max', 'vaf_mean', 'vaf_median', 'vaf_min', 'vaf_sample_count', 'vaf_std', 'varcall', 'varcall_count', 'variant_mt_fraction', 'vcf_alt', 'vcf_chromosome', 'vcf_filter', 'vcf_format_keys', 'vcf_format_values', 'vcf_id', 'vcf_info', 'vcf_pos', 'vcf_qual', 'vcf_ref', 'vest', 'vest3_rankscore', 'wg_encode_broad_hmm_gm12878hmm', 'zygosity']\n",
        "# Dica, utilizar um contador\n",
        "\n",
        "input_name = input('Which word do you want to print?: ')\n",
        "length = names.index(input_name)\n",
        "n = 0\n",
        "\n",
        "while n <= length:\n",
        "  print(names[n])\n",
        "  n += 1\n"
      ],
      "execution_count": null,
      "outputs": []
    },
    {
      "cell_type": "markdown",
      "metadata": {
        "id": "xdxTK7upLMnG"
      },
      "source": [
        "7 - We know that DNA has 6 reading frames. In the fast sequence below, print the 3 frames of this strand. (Not considering reverse strand) - Challenge (https://cdn.kastatic.org/ka-perseus-images/ed3bfd85b8ec88f74515e63649b9dcd5c976e21e.png)\n"
      ]
    },
    {
      "cell_type": "code",
      "source": [
        "fasta = 'AATTGTCGATGCTAGCTTACTATCGTACTGACTGATCGTGACTGCGTACGTAGTCTCGTGTACGTAGTCTAGC'\n",
        "\n",
        "a = 0\n",
        "b = 1\n",
        "c = 2\n",
        "length = len(fasta)\n",
        "\n",
        "if length % 3 == 0:\n",
        "  while a < length:\n",
        "    print(f'{fasta[a]}{fasta[a+1]}{fasta[a+2]}')\n",
        "    a = a + 3\n",
        "  print(' ')\n",
        "\n",
        "  while b < length - 2:\n",
        "    print(f'{fasta[b]}{fasta[b+1]}{fasta[b+2]}')\n",
        "    b = b + 3\n",
        "  print(' ')\n",
        "\n",
        "  while c < length - 1:\n",
        "    print(f'{fasta[c]}{fasta[c+1]}{fasta[c+2]}')\n",
        "    c = c + 3\n",
        "\n",
        "elif length % 3 == 1:\n",
        "  while a < length - 1:\n",
        "    print(f'{fasta[a]}{fasta[a+1]}{fasta[a+2]}')\n",
        "    a = a + 3\n",
        "  print(' ')\n",
        "  while b < length:\n",
        "    print(f'{fasta[b]}{fasta[b+1]}{fasta[b+2]}')\n",
        "    b = b + 3\n",
        "  print(' ')\n",
        "\n",
        "  while c < length - 2:\n",
        "    print(f'{fasta[c]}{fasta[c+1]}{fasta[c+2]}')\n",
        "    c = c + 3\n",
        "\n",
        "else:\n",
        "  while a < length - 2:\n",
        "    print(f'{fasta[a]}{fasta[a+1]}{fasta[a+2]}')\n",
        "    a = a + 3\n",
        "  print(' ')\n",
        "  while b < length - 1:\n",
        "    print(f'{fasta[b]}{fasta[b+1]}{fasta[b+2]}')\n",
        "    b = b + 3\n",
        "  print(' ')\n",
        "  while c < length:\n",
        "    print(f'{fasta[c]}{fasta[c+1]}{fasta[c+2]}')\n",
        "    c = c + 3"
      ],
      "metadata": {
        "id": "_j7rtVZny9BX"
      },
      "execution_count": null,
      "outputs": []
    },
    {
      "cell_type": "code",
      "source": [
        "fasta = 'AATTGTCGATGCTAGCTTACTATCGTACTGACTGATCGTGACTGCGTACGTAGTCTCGTGTACGTAGTCTAGC'\n",
        "\n",
        "frame = 0                                      #declaring frame variable as 0 to increment my while below\n",
        "\n",
        "while frame <= 2:                              #because it is 3 frames (starting at position 0, 1 and 2)\n",
        "  codonlist = list()                           #to put codons inside a list and not just print every of them in lines separately\n",
        "  for i in range (frame, len(fasta), 3):       #starting at position 0 to the length of fasta, jumping 3 indexes\n",
        "    if(len((fasta[i:i+3]))) == 3:              #just printing codons whose lenght is equal to 3\n",
        "      codonlist.append(fasta[i:i+3])           #adding codons to my list named codonlist\n",
        "  print(codonlist)                             #printing\n",
        "  frame += 1                                   #incrementing my while loop\n"
      ],
      "metadata": {
        "id": "kcQOnaOMPJSZ"
      },
      "execution_count": null,
      "outputs": []
    }
  ]
}