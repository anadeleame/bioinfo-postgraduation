{
  "nbformat": 4,
  "nbformat_minor": 0,
  "metadata": {
    "colab": {
      "provenance": [],
      "authorship_tag": "ABX9TyM28563Q6azTXPX+hfsXO8M",
      "include_colab_link": true
    },
    "kernelspec": {
      "name": "python3",
      "display_name": "Python 3"
    },
    "language_info": {
      "name": "python"
    }
  },
  "cells": [
    {
      "cell_type": "markdown",
      "metadata": {
        "id": "view-in-github",
        "colab_type": "text"
      },
      "source": [
        "<a href=\"https://colab.research.google.com/github/anadeleame/bioinfo-postgraduation/blob/main/Project_II_17_07.ipynb\" target=\"_parent\"><img src=\"https://colab.research.google.com/assets/colab-badge.svg\" alt=\"Open In Colab\"/></a>"
      ]
    },
    {
      "cell_type": "markdown",
      "source": [
        "##Repair the bed file\n",
        "\n",
        "In variant calling processes that use a bed with regions of interest, when changing the old pipeline to the most current version of Dragen's variant caller (Illumina), some variants stopped being called. This can happen for several reasons, however, in this case, it was the change in the methodology applied. When analyzing the bed in question, it was noted how much it was fragmented when compared to the exon locations. The bioinformatician opened the bed file and noticed that it had several repeated entries, in addition to overlapping positions. Create a script that removes the repeated entries and creates a single entry for lines that have this overlap.\n"
      ],
      "metadata": {
        "id": "9kOmgdkI1hig"
      }
    },
    {
      "cell_type": "markdown",
      "source": [
        "![Sem título.png](data:image/png;base64,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)"
      ],
      "metadata": {
        "id": "ZmAzVJ8h1lB4"
      }
    },
    {
      "cell_type": "markdown",
      "source": [
        "1. In the Linux terminal, remove the repeated lines from the messy_bed.bed file;\n",
        "2. With the output file from the previous step, we will open the file. Also open an output file for the final result;\n",
        "3. Iterate the open file;\n",
        "4. In the first line, we must save, in a temporary variable, the values contained in the chr, start and end of the bed;\n",
        "5. Starting from my second element (index 1) I will:\n",
        "    \n",
        "     5.1. Is the chr of the current index the same as the previous index?\n",
        "- If so: go on;\n",
        "- If not: save the following variables in an output file = chr_temp, start_temp, end_temp.\n",
        "**It will treat the new values as if it were a new line, that is, save the current index chr in chr_temp, save the current start in start_temp, save the current end in end_temp and proceed normally to the next loop.\n",
        "    \n",
        "     5.2. Is the start of the current index less than or equal to the end of the previous index?\n",
        "- If so: go on;\n",
        "- If not: save the following variables in an output file = chr_temp, start_temp, end_temp.\n",
        "**It will treat the new values as if it were a new line, that is, save the current index chr in chr_temp, save the current start in start_temp, save the current end in end_temp and proceed normally to the next loop.\n",
        "\n",
        "     5.3. Is the end of the current index equal to or greater than the end of the previous index?\n",
        "- If so: replace the temporary variable of end with the new end of the current index.\n",
        "\n",
        "6. When finishing the treatment of all lines, possibly the last case was not saved in the final file. However, the temp variables still exist, so I must save the temp in the final file after the iteration loop.\n"
      ],
      "metadata": {
        "id": "_PI9gQy670uZ"
      }
    },
    {
      "cell_type": "code",
      "source": [
        "from google.colab import files\n",
        "\n",
        "uploaded = files.upload()"
      ],
      "metadata": {
        "colab": {
          "base_uri": "https://localhost:8080/",
          "height": 73
        },
        "id": "_Bq5SLVLcFm1",
        "outputId": "2c6a7df9-ec14-474b-b0bd-47dc7c4947ec"
      },
      "execution_count": null,
      "outputs": [
        {
          "output_type": "display_data",
          "data": {
            "text/plain": [
              "<IPython.core.display.HTML object>"
            ],
            "text/html": [
              "\n",
              "     <input type=\"file\" id=\"files-b8d8edf4-8d92-428d-8b50-1027c2a77195\" name=\"files[]\" multiple disabled\n",
              "        style=\"border:none\" />\n",
              "     <output id=\"result-b8d8edf4-8d92-428d-8b50-1027c2a77195\">\n",
              "      Upload widget is only available when the cell has been executed in the\n",
              "      current browser session. Please rerun this cell to enable.\n",
              "      </output>\n",
              "      <script>// Copyright 2017 Google LLC\n",
              "//\n",
              "// Licensed under the Apache License, Version 2.0 (the \"License\");\n",
              "// you may not use this file except in compliance with the License.\n",
              "// You may obtain a copy of the License at\n",
              "//\n",
              "//      http://www.apache.org/licenses/LICENSE-2.0\n",
              "//\n",
              "// Unless required by applicable law or agreed to in writing, software\n",
              "// distributed under the License is distributed on an \"AS IS\" BASIS,\n",
              "// WITHOUT WARRANTIES OR CONDITIONS OF ANY KIND, either express or implied.\n",
              "// See the License for the specific language governing permissions and\n",
              "// limitations under the License.\n",
              "\n",
              "/**\n",
              " * @fileoverview Helpers for google.colab Python module.\n",
              " */\n",
              "(function(scope) {\n",
              "function span(text, styleAttributes = {}) {\n",
              "  const element = document.createElement('span');\n",
              "  element.textContent = text;\n",
              "  for (const key of Object.keys(styleAttributes)) {\n",
              "    element.style[key] = styleAttributes[key];\n",
              "  }\n",
              "  return element;\n",
              "}\n",
              "\n",
              "// Max number of bytes which will be uploaded at a time.\n",
              "const MAX_PAYLOAD_SIZE = 100 * 1024;\n",
              "\n",
              "function _uploadFiles(inputId, outputId) {\n",
              "  const steps = uploadFilesStep(inputId, outputId);\n",
              "  const outputElement = document.getElementById(outputId);\n",
              "  // Cache steps on the outputElement to make it available for the next call\n",
              "  // to uploadFilesContinue from Python.\n",
              "  outputElement.steps = steps;\n",
              "\n",
              "  return _uploadFilesContinue(outputId);\n",
              "}\n",
              "\n",
              "// This is roughly an async generator (not supported in the browser yet),\n",
              "// where there are multiple asynchronous steps and the Python side is going\n",
              "// to poll for completion of each step.\n",
              "// This uses a Promise to block the python side on completion of each step,\n",
              "// then passes the result of the previous step as the input to the next step.\n",
              "function _uploadFilesContinue(outputId) {\n",
              "  const outputElement = document.getElementById(outputId);\n",
              "  const steps = outputElement.steps;\n",
              "\n",
              "  const next = steps.next(outputElement.lastPromiseValue);\n",
              "  return Promise.resolve(next.value.promise).then((value) => {\n",
              "    // Cache the last promise value to make it available to the next\n",
              "    // step of the generator.\n",
              "    outputElement.lastPromiseValue = value;\n",
              "    return next.value.response;\n",
              "  });\n",
              "}\n",
              "\n",
              "/**\n",
              " * Generator function which is called between each async step of the upload\n",
              " * process.\n",
              " * @param {string} inputId Element ID of the input file picker element.\n",
              " * @param {string} outputId Element ID of the output display.\n",
              " * @return {!Iterable<!Object>} Iterable of next steps.\n",
              " */\n",
              "function* uploadFilesStep(inputId, outputId) {\n",
              "  const inputElement = document.getElementById(inputId);\n",
              "  inputElement.disabled = false;\n",
              "\n",
              "  const outputElement = document.getElementById(outputId);\n",
              "  outputElement.innerHTML = '';\n",
              "\n",
              "  const pickedPromise = new Promise((resolve) => {\n",
              "    inputElement.addEventListener('change', (e) => {\n",
              "      resolve(e.target.files);\n",
              "    });\n",
              "  });\n",
              "\n",
              "  const cancel = document.createElement('button');\n",
              "  inputElement.parentElement.appendChild(cancel);\n",
              "  cancel.textContent = 'Cancel upload';\n",
              "  const cancelPromise = new Promise((resolve) => {\n",
              "    cancel.onclick = () => {\n",
              "      resolve(null);\n",
              "    };\n",
              "  });\n",
              "\n",
              "  // Wait for the user to pick the files.\n",
              "  const files = yield {\n",
              "    promise: Promise.race([pickedPromise, cancelPromise]),\n",
              "    response: {\n",
              "      action: 'starting',\n",
              "    }\n",
              "  };\n",
              "\n",
              "  cancel.remove();\n",
              "\n",
              "  // Disable the input element since further picks are not allowed.\n",
              "  inputElement.disabled = true;\n",
              "\n",
              "  if (!files) {\n",
              "    return {\n",
              "      response: {\n",
              "        action: 'complete',\n",
              "      }\n",
              "    };\n",
              "  }\n",
              "\n",
              "  for (const file of files) {\n",
              "    const li = document.createElement('li');\n",
              "    li.append(span(file.name, {fontWeight: 'bold'}));\n",
              "    li.append(span(\n",
              "        `(${file.type || 'n/a'}) - ${file.size} bytes, ` +\n",
              "        `last modified: ${\n",
              "            file.lastModifiedDate ? file.lastModifiedDate.toLocaleDateString() :\n",
              "                                    'n/a'} - `));\n",
              "    const percent = span('0% done');\n",
              "    li.appendChild(percent);\n",
              "\n",
              "    outputElement.appendChild(li);\n",
              "\n",
              "    const fileDataPromise = new Promise((resolve) => {\n",
              "      const reader = new FileReader();\n",
              "      reader.onload = (e) => {\n",
              "        resolve(e.target.result);\n",
              "      };\n",
              "      reader.readAsArrayBuffer(file);\n",
              "    });\n",
              "    // Wait for the data to be ready.\n",
              "    let fileData = yield {\n",
              "      promise: fileDataPromise,\n",
              "      response: {\n",
              "        action: 'continue',\n",
              "      }\n",
              "    };\n",
              "\n",
              "    // Use a chunked sending to avoid message size limits. See b/62115660.\n",
              "    let position = 0;\n",
              "    do {\n",
              "      const length = Math.min(fileData.byteLength - position, MAX_PAYLOAD_SIZE);\n",
              "      const chunk = new Uint8Array(fileData, position, length);\n",
              "      position += length;\n",
              "\n",
              "      const base64 = btoa(String.fromCharCode.apply(null, chunk));\n",
              "      yield {\n",
              "        response: {\n",
              "          action: 'append',\n",
              "          file: file.name,\n",
              "          data: base64,\n",
              "        },\n",
              "      };\n",
              "\n",
              "      let percentDone = fileData.byteLength === 0 ?\n",
              "          100 :\n",
              "          Math.round((position / fileData.byteLength) * 100);\n",
              "      percent.textContent = `${percentDone}% done`;\n",
              "\n",
              "    } while (position < fileData.byteLength);\n",
              "  }\n",
              "\n",
              "  // All done.\n",
              "  yield {\n",
              "    response: {\n",
              "      action: 'complete',\n",
              "    }\n",
              "  };\n",
              "}\n",
              "\n",
              "scope.google = scope.google || {};\n",
              "scope.google.colab = scope.google.colab || {};\n",
              "scope.google.colab._files = {\n",
              "  _uploadFiles,\n",
              "  _uploadFilesContinue,\n",
              "};\n",
              "})(self);\n",
              "</script> "
            ]
          },
          "metadata": {}
        },
        {
          "output_type": "stream",
          "name": "stdout",
          "text": [
            "Saving messy_bed.bed to messy_bed.bed\n"
          ]
        }
      ]
    },
    {
      "cell_type": "code",
      "source": [
        "%%bash\n",
        "\n",
        "uniq messy_bed.bed > uniqbed.bed"
      ],
      "metadata": {
        "id": "SWS6nJ_Pt0rQ"
      },
      "execution_count": null,
      "outputs": []
    },
    {
      "cell_type": "code",
      "source": [
        "outputfile = open(\"not_messy.bed\", \"w\")\n",
        "\n",
        "with open(\"uniqbed.bed\", \"r\") as file:\n",
        "    first = 0\n",
        "    for line in file:\n",
        "        linevalues = line.split()\n",
        "        if first  == 0 :\n",
        "            chr_temp = linevalues[0]\n",
        "            start_temp =linevalues[1]\n",
        "            end_temp = linevalues[2]\n",
        "            first = 1\n",
        "        else:\n",
        "            chr = linevalues[0]\n",
        "            start = linevalues[1]\n",
        "            end = linevalues[2]\n",
        "            if chr == chr_temp:\n",
        "                if start <= end_temp:\n",
        "                    if end >= end_temp:\n",
        "                          end_temp = end\n",
        "                else:\n",
        "                    outputfile.write(f\"{chr_temp}\\t{start_temp}\\t{end_temp}\\n\")\n",
        "                    chr_temp = chr\n",
        "                    start_temp = start\n",
        "                    end_temp = end\n",
        "            else:\n",
        "                outputfile.write(f\"{chr_temp}\\t{start_temp}\\t{end_temp}\\n\")\n",
        "                chr_temp = chr\n",
        "                start_temp = start\n",
        "                end_temp = end\n",
        "\n",
        "outputfile.write(f\"{chr_temp}\\t{start_temp}\\t{end_temp}\\n\")\n",
        "outputfile.close()"
      ],
      "metadata": {
        "id": "fH9OnQAMdljO"
      },
      "execution_count": null,
      "outputs": []
    }
  ]
}