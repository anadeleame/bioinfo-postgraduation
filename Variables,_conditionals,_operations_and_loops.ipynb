{
  "nbformat": 4,
  "nbformat_minor": 0,
  "metadata": {
    "colab": {
      "provenance": [],
      "include_colab_link": true
    },
    "kernelspec": {
      "name": "python3",
      "display_name": "Python 3"
    },
    "language_info": {
      "name": "python"
    }
  },
  "cells": [
    {
      "cell_type": "markdown",
      "metadata": {
        "id": "view-in-github",
        "colab_type": "text"
      },
      "source": [
        "<a href=\"https://colab.research.google.com/github/anadeleame/bioinfo-postgraduation/blob/main/Variables%2C_conditionals%2C_operations_and_loops.ipynb\" target=\"_parent\"><img src=\"https://colab.research.google.com/assets/colab-badge.svg\" alt=\"Open In Colab\"/></a>"
      ]
    },
    {
      "cell_type": "markdown",
      "metadata": {
        "id": "IH--J64Y9bi4"
      },
      "source": [
        "1 - In a laboratory, the amount of an enzyme X in the blood was evaluated. This enzyme, if above 1000, would indicate that the patient could have the disease \"Loucurium pythonisticum\". Case below would not indicate the disease. <br>\n",
        "Create a code to print the situation of this patient on the screen, for enzyme X with value 1000. (this code should work for any value of enzyme X)"
      ]
    },
    {
      "cell_type": "code",
      "metadata": {
        "id": "230AVP7g9anw"
      },
      "source": [
        "enzyme = int(input('Enzyme value: '))\n",
        "\n",
        "if enzyme > 1000:\n",
        "  print(\"Loucurium pythonisticum\")\n",
        "else:\n",
        "  print(\"Healthy\")\n",
        "\n"
      ],
      "execution_count": null,
      "outputs": []
    },
    {
      "cell_type": "markdown",
      "metadata": {
        "id": "RuzsKS-m_BNr"
      },
      "source": [
        "2 - In a laboratory, the amount of an enzyme X in the blood was evaluated. This enzyme, if above 1000, would indicate that the patient could have the disease \"Loucurium pythonisticum\". If it was between 500 and 1000, it could indicate the disease \"Almosty understanding\". If any other value, the patient would be in normal values. Create a code to print the situation of this patient on the screen, for enzyme X with a value of 700. (this code should work for any value of enzyme X)"
      ]
    },
    {
      "cell_type": "code",
      "metadata": {
        "id": "RrL0UtFX8_eU"
      },
      "source": [
        "enzyme = int(input('Enzyme value: '))\n",
        "\n",
        "if enzyme >1000:\n",
        "  print(\"Loucurium pythonisticum\")\n",
        "elif enzyme <=1000 and enzyme >=500:\n",
        "  print(\"Almosty entendenium\")\n",
        "else:\n",
        "  print(\"Healthy\")"
      ],
      "execution_count": null,
      "outputs": []
    },
    {
      "cell_type": "markdown",
      "metadata": {
        "id": "PegC2W5-EZj1"
      },
      "source": [
        "# Part 2"
      ]
    },
    {
      "cell_type": "markdown",
      "metadata": {
        "id": "MEJTBNjQDRh-"
      },
      "source": [
        "3 - Write a script that counts from a number n to 1, and check if the number is divisible by 5. (use while)\n",
        "\n",
        "n = 99"
      ]
    },
    {
      "cell_type": "code",
      "metadata": {
        "id": "AO6HNv_cEwr_"
      },
      "source": [
        "n = 99\n",
        "\n",
        "while n >= 1:\n",
        "  if n % 5 == 0:\n",
        "    print (n,\"is divisible\")\n",
        "  else:\n",
        "    print (n, \"is not divisible\")\n",
        "  n = n - 1"
      ],
      "execution_count": null,
      "outputs": []
    },
    {
      "cell_type": "markdown",
      "metadata": {
        "id": "qjdqQbYsHpSB"
      },
      "source": [
        "5 - Write the same exercise as above, but if \"for\" loop"
      ]
    },
    {
      "cell_type": "code",
      "metadata": {
        "id": "NonFZPdeHoq4"
      },
      "source": [
        "for n in range(1,99):\n",
        "  if n % 5 == 0:\n",
        "    print (n, \"is divisible\")\n",
        "  else:\n",
        "    print (n, \"is not divisible\")\n"
      ],
      "execution_count": null,
      "outputs": []
    }
  ]
}